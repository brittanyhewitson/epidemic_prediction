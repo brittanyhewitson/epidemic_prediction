{
 "cells": [
  {
   "cell_type": "markdown",
   "metadata": {},
   "source": [
    "# Epidemic Prediction\n",
    "Quick intro about what the project is and what work we did in it?"
   ]
  },
  {
   "cell_type": "markdown",
   "metadata": {},
   "source": [
    "## Input Data\n",
    "`07_feature_engineering_and_cleaning.csv`\n",
    "   *   116109 rows total\n",
    "\n",
    "### Dates\n",
    "   *   99 unique dates\n",
    "   \n",
    "### Locations\n",
    "   *   1218 unique locations\n",
    "\n",
    "### Features\n",
    "   *   temperature: `max_temp`, `max_temp1`, `max_temp2`, `mean_temp`, `mean_temp1`, `mean_temp2`, `min_temp`, `min_temp1`, `min_temp2`\n",
    "   *   dew point: `dew_point`, `dew_point1`, `dew_point2`\n",
    "   *   precipitation: `precipitation`, `precipitation1`, `precipitation2`\n",
    "   *   wind: `wind`, `wind1`, `wind2`\n",
    "   *   `density_per_km`\n",
    "   *   `airport_dist_any`\n",
    "   *   `airport_dist_large`\n",
    "   *   `mosquito_dist`\n",
    "   \n",
    "### Outputs\n",
    "   *   `zika_cases`\n",
    "   *   Number of cases reported on that day (assume)"
   ]
  },
  {
   "cell_type": "code",
   "execution_count": 1,
   "metadata": {},
   "outputs": [
    {
     "name": "stderr",
     "output_type": "stream",
     "text": [
      "Using TensorFlow backend.\n"
     ]
    }
   ],
   "source": [
    "# Run for demo\n",
    "import sys\n",
    "import os\n",
    "from visualize_data import *\n",
    "from models import *\n",
    "from test_parameters import *\n",
    "\n",
    "# Set up working directory\n",
    "if os.getcwd().endswith(\"notebooks\"):\n",
    "    current_dir = os.getcwd()\n",
    "    up_dir = current_dir.split(\"/\")[0:-1]\n",
    "    os.chdir(\"/\".join(up_dir))\n",
    "\n",
    "# Read the relevant input data\n",
    "zika_cases = pd.read_csv(\"csv_data/03_infection_data_final.csv\")\n",
    "all_data = pd.read_csv(\"csv_data/07_feature_engineering_and_cleaning.csv\")\n",
    "\n",
    "# Make sure to use CPU for these small models\n",
    "setup_gpu(gpu=False)\n"
   ]
  },
  {
   "cell_type": "code",
   "execution_count": 2,
   "metadata": {},
   "outputs": [],
   "source": [
    "# Visualize the zika cases vs time\n",
    "#plot_zika_cases_vs_time(zika_cases)"
   ]
  },
  {
   "cell_type": "code",
   "execution_count": 3,
   "metadata": {},
   "outputs": [],
   "source": [
    "# Visualize the feature importance\n",
    "#plot_feature_output_correlation(all_data)"
   ]
  },
  {
   "cell_type": "markdown",
   "metadata": {},
   "source": [
    "## Simple Classifier"
   ]
  },
  {
   "cell_type": "code",
   "execution_count": 2,
   "metadata": {},
   "outputs": [
    {
     "name": "stdout",
     "output_type": "stream",
     "text": [
      "The length of the training data is 970\n",
      "The length of the testing data is 243\n",
      "Model: \"sequential_1\"\n",
      "_________________________________________________________________\n",
      "Layer (type)                 Output Shape              Param #   \n",
      "=================================================================\n",
      "dense_1 (Dense)              (None, 12)                300       \n",
      "_________________________________________________________________\n",
      "dense_2 (Dense)              (None, 12)                156       \n",
      "_________________________________________________________________\n",
      "dense_3 (Dense)              (None, 1)                 13        \n",
      "=================================================================\n",
      "Total params: 469\n",
      "Trainable params: 469\n",
      "Non-trainable params: 0\n",
      "_________________________________________________________________\n",
      "None\n"
     ]
    }
   ],
   "source": [
    "# Run for demo\n",
    "# Get up input data using the small dataset\n",
    "data_sm = get_data(big_set=False)\n",
    "print(\"The length of the training data is {}\".format(len(data_sm[\"X_train\"])))\n",
    "print(\"The length of the testing data is {}\".format(len(data_sm[\"X_test\"])))\n",
    "\n",
    "# Set up the simple classifier\n",
    "simple_classifier_sm = build_simple_classifier(data_sm[\"X_train\"])\n",
    "print(simple_classifier_sm.summary())"
   ]
  },
  {
   "cell_type": "code",
   "execution_count": 3,
   "metadata": {},
   "outputs": [
    {
     "name": "stdout",
     "output_type": "stream",
     "text": [
      "accuracy for {'epochs': 1, 'batch_size': 5}: 0.720164609053498\n",
      "accuracy for {'epochs': 1, 'batch_size': 10}: 0.7530864197530864\n",
      "accuracy for {'epochs': 1, 'batch_size': 20}: 0.7613168724279835\n",
      "accuracy for {'epochs': 1, 'batch_size': 50}: 0.7777777777777778\n",
      "accuracy for {'epochs': 1, 'batch_size': 100}: 0.7777777777777778\n",
      "accuracy for {'epochs': 5, 'batch_size': 5}: 0.7860082304526749\n",
      "accuracy for {'epochs': 5, 'batch_size': 10}: 0.8395061728395061\n",
      "accuracy for {'epochs': 5, 'batch_size': 20}: 0.7983539094650206\n",
      "accuracy for {'epochs': 5, 'batch_size': 50}: 0.8559670781893004\n",
      "accuracy for {'epochs': 5, 'batch_size': 100}: 0.8477366255144033\n",
      "accuracy for {'epochs': 10, 'batch_size': 5}: 0.7860082304526749\n",
      "accuracy for {'epochs': 10, 'batch_size': 10}: 0.8148148148148148\n",
      "accuracy for {'epochs': 10, 'batch_size': 20}: 0.823045267489712\n",
      "accuracy for {'epochs': 10, 'batch_size': 50}: 0.8724279835390947\n",
      "accuracy for {'epochs': 10, 'batch_size': 100}: 0.8518518518518519\n",
      "accuracy for {'epochs': 20, 'batch_size': 5}: 0.8806584362139918\n",
      "accuracy for {'epochs': 20, 'batch_size': 10}: 0.8930041152263375\n",
      "accuracy for {'epochs': 20, 'batch_size': 20}: 0.8806584362139918\n",
      "accuracy for {'epochs': 20, 'batch_size': 50}: 0.8847736625514403\n",
      "accuracy for {'epochs': 20, 'batch_size': 100}: 0.9176954732510288\n",
      "accuracy for {'epochs': 50, 'batch_size': 5}: 0.9053497942386831\n",
      "accuracy for {'epochs': 50, 'batch_size': 10}: 0.9300411522633745\n",
      "accuracy for {'epochs': 50, 'batch_size': 20}: 0.9300411522633745\n",
      "accuracy for {'epochs': 50, 'batch_size': 50}: 0.9300411522633745\n",
      "accuracy for {'epochs': 50, 'batch_size': 100}: 0.9382716049382716\n",
      "accuracy for {'epochs': 100, 'batch_size': 5}: 0.9382716049382716\n",
      "accuracy for {'epochs': 100, 'batch_size': 10}: 0.9423868312757202\n",
      "accuracy for {'epochs': 100, 'batch_size': 20}: 0.9465020576131687\n",
      "accuracy for {'epochs': 100, 'batch_size': 50}: 0.9465020576131687\n",
      "accuracy for {'epochs': 100, 'batch_size': 100}: 0.9547325102880658\n"
     ]
    }
   ],
   "source": [
    "# Run for demo\n",
    "# Set up parameters\n",
    "params = {\n",
    "    #\"epochs\": [1, 5, 10, 20, 50, 100],\n",
    "    #\"batch_size\": [5, 10, 20, 50, 100]\n",
    "    \"epochs\": [1, 5, 10, 20],\n",
    "    \"batch_size\": [10, 20, 50, 100]\n",
    "}\n",
    "simple_classifier_results_sm = test_simple_classifier(simple_classifier_sm, data_sm, params)"
   ]
  },
  {
   "cell_type": "code",
   "execution_count": 4,
   "metadata": {},
   "outputs": [
    {
     "data": {
      "image/png": "[encoded data removed]",
      "text/plain": [
       "<Figure size 432x288 with 2 Axes>"
      ]
     },
     "metadata": {
      "needs_background": "light"
     },
     "output_type": "display_data"
    },
    {
     "data": {
      "text/plain": [
       "<Figure size 432x288 with 0 Axes>"
      ]
     },
     "metadata": {},
     "output_type": "display_data"
    }
   ],
   "source": [
    "# Run for demo\n",
    "# Visualize Results\n",
    "plot_simple_classifier_heatmap(simple_classifier_results_sm)"
   ]
  },
  {
   "cell_type": "code",
   "execution_count": 3,
   "metadata": {},
   "outputs": [
    {
     "name": "stdout",
     "output_type": "stream",
     "text": [
      "accuracy for {'epochs': 1000, 'batch_size': 50}: 0.9094650205761317\n"
     ]
    }
   ],
   "source": [
    "# Try 1000 epochs\n",
    "params = {\n",
    "    \"epochs\": [1000],\n",
    "    \"batch_size\": [50]\n",
    "}\n",
    "simple_classifier_results_1000 = test_simple_classifier(simple_classifier_sm, data_sm, params)"
   ]
  },
  {
   "cell_type": "code",
   "execution_count": 4,
   "metadata": {},
   "outputs": [
    {
     "data": {
      "image/png": "[encoded data removed]",
      "text/plain": [
       "<Figure size 432x288 with 1 Axes>"
      ]
     },
     "metadata": {
      "needs_background": "light"
     },
     "output_type": "display_data"
    }
   ],
   "source": [
    "plot_history(simple_classifier_results_1000)"
   ]
  },
  {
   "cell_type": "markdown",
   "metadata": {},
   "source": [
    "Accuracy is highly variable, probably because dataset is so small"
   ]
  },
  {
   "cell_type": "code",
   "execution_count": 9,
   "metadata": {},
   "outputs": [
    {
     "name": "stdout",
     "output_type": "stream",
     "text": [
      "The length of the training data is 92887\n",
      "The length of the testing data is 23222\n"
     ]
    }
   ],
   "source": [
    "# Set up input data using the large dataset\n",
    "data_lg = get_data(big_set=True)\n",
    "print(\"The length of the training data is {}\".format(len(data_lg[\"X_train\"])))\n",
    "print(\"The length of the testing data is {}\".format(len(data_lg[\"X_test\"])))\n",
    "\n",
    "# Set up the simple classifier\n",
    "simple_classifier_lg = build_simple_classifier(data_lg[\"X_train\"])"
   ]
  },
  {
   "cell_type": "code",
   "execution_count": 8,
   "metadata": {},
   "outputs": [
    {
     "name": "stdout",
     "output_type": "stream",
     "text": [
      "accuracy for {'epochs': 1, 'batch_size': 5}: 0.8740418568598742\n",
      "accuracy for {'epochs': 1, 'batch_size': 10}: 0.8746447334424253\n",
      "accuracy for {'epochs': 1, 'batch_size': 20}: 0.8740849194729137\n",
      "accuracy for {'epochs': 1, 'batch_size': 50}: 0.8743002325381104\n",
      "accuracy for {'epochs': 1, 'batch_size': 100}: 0.874127982085953\n",
      "accuracy for {'epochs': 5, 'batch_size': 5}: 0.875204547411937\n",
      "accuracy for {'epochs': 5, 'batch_size': 10}: 0.8740849194729137\n",
      "accuracy for {'epochs': 5, 'batch_size': 20}: 0.8758504866075273\n",
      "accuracy for {'epochs': 5, 'batch_size': 50}: 0.8757643613814486\n",
      "accuracy for {'epochs': 5, 'batch_size': 100}: 0.8760657996727241\n",
      "accuracy for {'epochs': 10, 'batch_size': 5}: 0.8746016708293859\n",
      "accuracy for {'epochs': 10, 'batch_size': 10}: 0.8755490483162518\n",
      "accuracy for {'epochs': 10, 'batch_size': 20}: 0.8761949875118422\n",
      "accuracy for {'epochs': 10, 'batch_size': 50}: 0.875204547411937\n",
      "accuracy for {'epochs': 10, 'batch_size': 100}: 0.8749031091206615\n",
      "accuracy for {'epochs': 20, 'batch_size': 5}: 0.8746447334424253\n",
      "accuracy for {'epochs': 20, 'batch_size': 10}: 0.8743432951511497\n",
      "accuracy for {'epochs': 20, 'batch_size': 20}: 0.876281112737921\n",
      "accuracy for {'epochs': 20, 'batch_size': 50}: 0.8763672379639996\n",
      "accuracy for {'epochs': 20, 'batch_size': 100}: 0.8769270519335113\n",
      "accuracy for {'epochs': 50, 'batch_size': 5}: 0.8760657996727241\n",
      "accuracy for {'epochs': 50, 'batch_size': 10}: 0.8751184221858582\n",
      "accuracy for {'epochs': 50, 'batch_size': 20}: 0.8770993023856688\n",
      "accuracy for {'epochs': 50, 'batch_size': 50}: 0.8766686762552752\n",
      "accuracy for {'epochs': 50, 'batch_size': 100}: 0.876883989320472\n",
      "accuracy for {'epochs': 100, 'batch_size': 5}: 0.875936611833606\n",
      "accuracy for {'epochs': 100, 'batch_size': 10}: 0.8761519248988029\n",
      "accuracy for {'epochs': 100, 'batch_size': 20}: 0.875936611833606\n",
      "accuracy for {'epochs': 100, 'batch_size': 50}: 0.875936611833606\n",
      "accuracy for {'epochs': 100, 'batch_size': 100}: 0.8761088622857635\n"
     ]
    }
   ],
   "source": [
    "# WARNING: THIS TAKES A LONG TIME\n",
    "\n",
    "# Test the same parameters on the large dataset\n",
    "simple_classifier_results_lg = test_simple_classifier(simple_classifier_lg, data_lg, params)"
   ]
  },
  {
   "cell_type": "code",
   "execution_count": 9,
   "metadata": {},
   "outputs": [
    {
     "data": {
      "image/png": "[encoded data removed]",
      "text/plain": [
       "<Figure size 432x288 with 2 Axes>"
      ]
     },
     "metadata": {
      "needs_background": "light"
     },
     "output_type": "display_data"
    },
    {
     "data": {
      "text/plain": [
       "<Figure size 432x288 with 0 Axes>"
      ]
     },
     "metadata": {},
     "output_type": "display_data"
    }
   ],
   "source": [
    "# Visualize Results\n",
    "plot_simple_classifier_heatmap(simple_classifier_results_lg)"
   ]
  },
  {
   "cell_type": "markdown",
   "metadata": {},
   "source": [
    "## SVM"
   ]
  },
  {
   "cell_type": "code",
   "execution_count": 7,
   "metadata": {},
   "outputs": [
    {
     "name": "stdout",
     "output_type": "stream",
     "text": [
      "accuracy for small dataset: 0.7901234567901234\n"
     ]
    }
   ],
   "source": [
    "# Run for demo\n",
    "# Start with small data again\n",
    "svm_classifier = svm.SVC()\n",
    "svm_results_sm = model_predict(\n",
    "        'svm',\n",
    "        svm_classifier,\n",
    "        data_sm,\n",
    "    )\n",
    "print(\"accuracy for small dataset: {}\".format(svm_results_sm[\"accuracy\"]))"
   ]
  },
  {
   "cell_type": "code",
   "execution_count": 10,
   "metadata": {},
   "outputs": [
    {
     "name": "stdout",
     "output_type": "stream",
     "text": [
      "accuracy for large dataset: 0.8740418568598742\n"
     ]
    }
   ],
   "source": [
    "# Now try large dataset\n",
    "svm_results_lg = model_predict(\n",
    "        'svm',\n",
    "        svm_classifier,\n",
    "        data_lg,\n",
    "    )\n",
    "print(\"accuracy for large dataset: {}\".format(svm_results_lg[\"accuracy\"]))"
   ]
  },
  {
   "cell_type": "markdown",
   "metadata": {},
   "source": [
    "## K-Nearest Neighbours"
   ]
  },
  {
   "cell_type": "code",
   "execution_count": 12,
   "metadata": {},
   "outputs": [
    {
     "name": "stdout",
     "output_type": "stream",
     "text": [
      "accuracy for n_neighbours=1: 0.9423868312757202\n",
      "accuracy for n_neighbours=2: 0.9135802469135802\n",
      "accuracy for n_neighbours=5: 0.9012345679012346\n",
      "accuracy for n_neighbours=10: 0.8930041152263375\n",
      "accuracy for n_neighbours=20: 0.8641975308641975\n",
      "accuracy for n_neighbours=50: 0.8395061728395061\n",
      "accuracy for n_neighbours=100: 0.8024691358024691\n"
     ]
    }
   ],
   "source": [
    "# Run for demo\n",
    "# Test various neighbours with the small dataset\n",
    "neighbours = [1, 2, 5, 10, 20, 50, 100]\n",
    "knn_results_sm = test_knn(data_sm, neighbours)"
   ]
  },
  {
   "cell_type": "code",
   "execution_count": 13,
   "metadata": {},
   "outputs": [
    {
     "data": {
      "image/png": "[encoded data removed]",
      "text/plain": [
       "<Figure size 432x288 with 1 Axes>"
      ]
     },
     "metadata": {
      "needs_background": "light"
     },
     "output_type": "display_data"
    },
    {
     "data": {
      "text/plain": [
       "<Figure size 432x288 with 0 Axes>"
      ]
     },
     "metadata": {},
     "output_type": "display_data"
    }
   ],
   "source": [
    "# Visualize Results\n",
    "plot_knn_bar(knn_results_sm)"
   ]
  },
  {
   "cell_type": "code",
   "execution_count": 14,
   "metadata": {},
   "outputs": [
    {
     "name": "stdout",
     "output_type": "stream",
     "text": [
      "accuracy for n_neighbours=1: 0.8260270433209888\n",
      "accuracy for n_neighbours=2: 0.8751184221858582\n",
      "accuracy for n_neighbours=5: 0.874730858668504\n",
      "accuracy for n_neighbours=10: 0.8832572560502971\n",
      "accuracy for n_neighbours=20: 0.8810180001722504\n",
      "accuracy for n_neighbours=50: 0.8764103005770391\n",
      "accuracy for n_neighbours=100: 0.8761088622857635\n"
     ]
    }
   ],
   "source": [
    "# Test various neighbours with the large dataset\n",
    "neighbours = [1, 2, 5, 10, 20, 50, 100]\n",
    "knn_results_lg = test_knn(data_lg, neighbours)"
   ]
  },
  {
   "cell_type": "code",
   "execution_count": 13,
   "metadata": {},
   "outputs": [
    {
     "data": {
      "image/png": "[encoded data removed]",
      "text/plain": [
       "<Figure size 432x288 with 1 Axes>"
      ]
     },
     "metadata": {
      "needs_background": "light"
     },
     "output_type": "display_data"
    },
    {
     "data": {
      "text/plain": [
       "<Figure size 432x288 with 0 Axes>"
      ]
     },
     "metadata": {},
     "output_type": "display_data"
    }
   ],
   "source": [
    "# Visualize results\n",
    "plot_knn_bar(knn_results_lg)"
   ]
  },
  {
   "cell_type": "code",
   "execution_count": 14,
   "metadata": {},
   "outputs": [
    {
     "data": {
      "image/png": "[encoded data removed]",
      "text/plain": [
       "<Figure size 432x288 with 1 Axes>"
      ]
     },
     "metadata": {
      "needs_background": "light"
     },
     "output_type": "display_data"
    },
    {
     "data": {
      "text/plain": [
       "<Figure size 432x288 with 0 Axes>"
      ]
     },
     "metadata": {},
     "output_type": "display_data"
    }
   ],
   "source": [
    "# Run for demo\n",
    "# Look at all results for the small dataset\n",
    "all_results_sm = [simple_classifier_results_sm, [svm_results_sm], knn_results_sm]\n",
    "plot_all_results(all_results_sm)"
   ]
  },
  {
   "cell_type": "code",
   "execution_count": 15,
   "metadata": {},
   "outputs": [
    {
     "data": {
      "image/png": "[encoded data removed]",
      "text/plain": [
       "<Figure size 432x288 with 1 Axes>"
      ]
     },
     "metadata": {
      "needs_background": "light"
     },
     "output_type": "display_data"
    },
    {
     "data": {
      "text/plain": [
       "<Figure size 432x288 with 0 Axes>"
      ]
     },
     "metadata": {},
     "output_type": "display_data"
    }
   ],
   "source": [
    "# Look at all results for the large dataset\n",
    "all_results_lg = [simple_classifier_results_lg, [svm_results_lg], knn_results_lg]\n",
    "plot_all_results(all_results_lg)"
   ]
  }
 ],
 "metadata": {
  "kernelspec": {
   "display_name": "Python 3",
   "language": "python",
   "name": "python3"
  },
  "language_info": {
   "codemirror_mode": {
    "name": "ipython",
    "version": 3
   },
   "file_extension": ".py",
   "mimetype": "text/x-python",
   "name": "python",
   "nbconvert_exporter": "python",
   "pygments_lexer": "ipython3",
   "version": "3.7.3"
  }
 },
 "nbformat": 4,
 "nbformat_minor": 2
}
