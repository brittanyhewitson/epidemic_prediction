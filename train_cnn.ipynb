{
 "cells": [
  {
   "cell_type": "code",
   "execution_count": 1,
   "metadata": {},
   "outputs": [
    {
     "name": "stderr",
     "output_type": "stream",
     "text": [
      "Using TensorFlow backend.\n"
     ]
    }
   ],
   "source": [
    "from __future__ import print_function\n",
    "import math\n",
    "#importing keras modules\n",
    "from keras.models import Sequential\n",
    "from keras.layers import Dense, Activation ,Dropout , Flatten , Conv1D, Conv2D ,MaxPooling1D\n",
    "from keras.layers.recurrent import LSTM\n",
    "from keras import losses\n",
    "from keras import optimizers"
   ]
  },
  {
   "cell_type": "code",
   "execution_count": 2,
   "metadata": {},
   "outputs": [],
   "source": [
    "import numpy as np\n",
    "import matplotlib.pyplot as plt\n",
    "import pandas as pd\n",
    "from pandas import datetime\n",
    "import math\n",
    "import itertools\n",
    "from sklearn import preprocessing\n",
    "import datetime\n",
    "from sklearn.metrics import mean_squared_error, accuracy_score\n",
    "from math import sqrt"
   ]
  },
  {
   "cell_type": "code",
   "execution_count": 3,
   "metadata": {},
   "outputs": [],
   "source": [
    "df = pd.read_csv('csv_data/07_feature_engineering_and_cleaning.csv')"
   ]
  },
  {
   "cell_type": "code",
   "execution_count": 5,
   "metadata": {},
   "outputs": [
    {
     "name": "stderr",
     "output_type": "stream",
     "text": [
      "c:\\users\\tjaka\\anaconda3\\envs\\epidemic_prediction\\lib\\site-packages\\ipykernel_launcher.py:2: FutureWarning: Method .as_matrix will be removed in a future version. Use .values instead.\n",
      "  \n"
     ]
    }
   ],
   "source": [
    "df = df.drop([\"date\", \"location\"], axis=1)\n",
    "data = df.as_matrix()"
   ]
  },
  {
   "cell_type": "code",
   "execution_count": 6,
   "metadata": {},
   "outputs": [],
   "source": [
    "result = []\n",
    "sequence_length = 6\n",
    "for index in range(len(data) - sequence_length):\n",
    "    result.append(data[index: index + sequence_length])\n",
    "    \n",
    "result = np.array(result)\n",
    "row = round(0.8 * result.shape[0])\n"
   ]
  },
  {
   "cell_type": "code",
   "execution_count": 15,
   "metadata": {},
   "outputs": [
    {
     "name": "stdout",
     "output_type": "stream",
     "text": [
      "X_train (92882, 5, 23)\n",
      "y_train (92882,)\n",
      "X_test (23221, 5, 23)\n",
      "y_test (23221,)\n"
     ]
    }
   ],
   "source": [
    "result = []\n",
    "sequence_length = 6\n",
    "for index in range(len(data) - sequence_length):\n",
    "    result.append(data[index: index + sequence_length])\n",
    "    \n",
    "result = np.array(result)\n",
    "row = round(0.8 * result.shape[0])\n",
    "\n",
    "#creating training data\n",
    "train = result[:int(row), :]\n",
    "\n",
    "x_train = train[:, :-1]\n",
    "y_train = train[:, -1][:,-1]\n",
    "x_test = result[int(row):, :-1]\n",
    "y_test = result[int(row):, -1][:,-1]\n",
    "\n",
    "amount_of_features = len(df.columns)\n",
    "x_train = np.reshape(x_train, (x_train.shape[0], x_train.shape[1], amount_of_features))\n",
    "x_test = np.reshape(x_test, (x_test.shape[0], x_test.shape[1], amount_of_features)) \n",
    "\n",
    "print(\"X_train\", x_train.shape)\n",
    "print(\"y_train\", y_train.shape)\n",
    "print(\"X_test\", x_test.shape)\n",
    "print(\"y_test\", y_test.shape)"
   ]
  },
  {
   "cell_type": "code",
   "execution_count": 16,
   "metadata": {},
   "outputs": [],
   "source": [
    "def build_model(input):\n",
    "    model = Sequential()\n",
    "    model.add(Dense(128,input_shape=(input[1],input[0])))\n",
    "    model.add(Conv1D(filters = 112, kernel_size= 1,padding='valid', activation='relu'))\n",
    "    model.add(MaxPooling1D(pool_size=2, padding='valid'))\n",
    "    model.add(Conv1D(filters = 64,kernel_size = 1,padding='valid', activation='relu'))\n",
    "    model.add(MaxPooling1D(pool_size=1, padding='valid'))\n",
    "    model.add(Dropout(0.2))\n",
    "    model.add(Flatten())\n",
    "    model.add(Dense(100, activation=\"relu\", kernel_initializer=\"uniform\"))\n",
    "    #model.add(Dropout(0.2))\n",
    "    model.add(Dense(1, activation=\"relu\", kernel_initializer=\"uniform\"))\n",
    "    model.compile(loss='mse',optimizer='adam',metrics=['mae'])\n",
    "    return model"
   ]
  },
  {
   "cell_type": "code",
   "execution_count": 17,
   "metadata": {},
   "outputs": [
    {
     "name": "stdout",
     "output_type": "stream",
     "text": [
      "Model: \"sequential_3\"\n",
      "_________________________________________________________________\n",
      "Layer (type)                 Output Shape              Param #   \n",
      "=================================================================\n",
      "dense_7 (Dense)              (None, 5, 128)            3072      \n",
      "_________________________________________________________________\n",
      "conv1d_5 (Conv1D)            (None, 5, 112)            14448     \n",
      "_________________________________________________________________\n",
      "max_pooling1d_5 (MaxPooling1 (None, 2, 112)            0         \n",
      "_________________________________________________________________\n",
      "conv1d_6 (Conv1D)            (None, 2, 64)             7232      \n",
      "_________________________________________________________________\n",
      "max_pooling1d_6 (MaxPooling1 (None, 2, 64)             0         \n",
      "_________________________________________________________________\n",
      "dropout_3 (Dropout)          (None, 2, 64)             0         \n",
      "_________________________________________________________________\n",
      "flatten_3 (Flatten)          (None, 128)               0         \n",
      "_________________________________________________________________\n",
      "dense_8 (Dense)              (None, 100)               12900     \n",
      "_________________________________________________________________\n",
      "dense_9 (Dense)              (None, 1)                 101       \n",
      "=================================================================\n",
      "Total params: 37,753\n",
      "Trainable params: 37,753\n",
      "Non-trainable params: 0\n",
      "_________________________________________________________________\n",
      "None\n"
     ]
    }
   ],
   "source": [
    "model = build_model([23,5,1])\n",
    "#Summary of the Model\n",
    "print(model.summary())"
   ]
  },
  {
   "cell_type": "code",
   "execution_count": 37,
   "metadata": {},
   "outputs": [
    {
     "name": "stdout",
     "output_type": "stream",
     "text": [
      "Train on 74305 samples, validate on 18577 samples\n",
      "Epoch 1/10\n",
      "74305/74305 [==============================] - 3s 45us/step - loss: 4.4639 - mae: 0.8070 - val_loss: 14.7629 - val_mae: 2.2997\n",
      "Epoch 2/10\n",
      "74305/74305 [==============================] - 3s 44us/step - loss: 3.7291 - mae: 0.7363 - val_loss: 13.9565 - val_mae: 2.2306\n",
      "Epoch 3/10\n",
      "74305/74305 [==============================] - 3s 45us/step - loss: 4.1610 - mae: 0.7083 - val_loss: 9.2522 - val_mae: 1.8089\n",
      "Epoch 4/10\n",
      "74305/74305 [==============================] - 3s 47us/step - loss: 3.9681 - mae: 0.7148 - val_loss: 16.7574 - val_mae: 2.3493\n",
      "Epoch 5/10\n",
      "74305/74305 [==============================] - 3s 45us/step - loss: 4.0274 - mae: 0.6990 - val_loss: 15.2972 - val_mae: 2.3344\n",
      "Epoch 6/10\n",
      "74305/74305 [==============================] - 3s 44us/step - loss: 5.2115 - mae: 0.8414 - val_loss: 16.4745 - val_mae: 2.3612\n",
      "Epoch 7/10\n",
      "74305/74305 [==============================] - 3s 45us/step - loss: 3.9856 - mae: 0.7523 - val_loss: 13.8518 - val_mae: 2.2106\n",
      "Epoch 8/10\n",
      "74305/74305 [==============================] - 3s 44us/step - loss: 3.9455 - mae: 0.7779 - val_loss: 11.7828 - val_mae: 2.0626\n",
      "Epoch 9/10\n",
      "74305/74305 [==============================] - 4s 47us/step - loss: 3.9461 - mae: 0.6834 - val_loss: 11.5573 - val_mae: 1.9962\n",
      "Epoch 10/10\n",
      "74305/74305 [==============================] - 3s 45us/step - loss: 4.0844 - mae: 0.6756 - val_loss: 12.6180 - val_mae: 2.1720\n",
      "33.58680040000013\n"
     ]
    }
   ],
   "source": [
    "from timeit import default_timer as timer\n",
    "start = timer()\n",
    "history = model.fit(x_train,\n",
    "                    y_train,\n",
    "                    batch_size=256,\n",
    "                    validation_split=0.2,\n",
    "                    epochs=10,)\n",
    "end = timer()\n",
    "print(end - start)"
   ]
  },
  {
   "cell_type": "code",
   "execution_count": null,
   "metadata": {},
   "outputs": [],
   "source": []
  }
 ],
 "metadata": {
  "kernelspec": {
   "display_name": "Python 3",
   "language": "python",
   "name": "python3"
  },
  "language_info": {
   "codemirror_mode": {
    "name": "ipython",
    "version": 3
   },
   "file_extension": ".py",
   "mimetype": "text/x-python",
   "name": "python",
   "nbconvert_exporter": "python",
   "pygments_lexer": "ipython3",
   "version": "3.5.6"
  }
 },
 "nbformat": 4,
 "nbformat_minor": 4
}
